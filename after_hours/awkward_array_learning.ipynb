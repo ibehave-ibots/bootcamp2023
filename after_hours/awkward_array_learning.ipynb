{
 "cells": [
  {
   "cell_type": "code",
   "execution_count": 1,
   "metadata": {},
   "outputs": [
    {
     "name": "stdout",
     "output_type": "stream",
     "text": [
      "Collecting awkward\n",
      "  Obtaining dependency information for awkward from https://files.pythonhosted.org/packages/23/4f/35b3f71345727bccc164b9723e66baf467489f85bd85d4395a923d932e8a/awkward-2.4.6-py3-none-any.whl.metadata\n",
      "  Downloading awkward-2.4.6-py3-none-any.whl.metadata (6.9 kB)\n",
      "Collecting awkward-cpp==24 (from awkward)\n",
      "  Obtaining dependency information for awkward-cpp==24 from https://files.pythonhosted.org/packages/16/24/0cad7795a792fbedb98fc2f8bf174892762877739244b0fcfa7a07537cf7/awkward_cpp-24-cp311-cp311-win_amd64.whl.metadata\n",
      "  Downloading awkward_cpp-24-cp311-cp311-win_amd64.whl.metadata (2.2 kB)\n",
      "Requirement already satisfied: importlib-metadata>=4.13.0 in c:\\users\\delgr\\anaconda3\\envs\\datascience1\\lib\\site-packages (from awkward) (6.8.0)\n",
      "Requirement already satisfied: numpy>=1.18.0 in c:\\users\\delgr\\anaconda3\\envs\\datascience1\\lib\\site-packages (from awkward) (1.25.2)\n",
      "Requirement already satisfied: packaging in c:\\users\\delgr\\anaconda3\\envs\\datascience1\\lib\\site-packages (from awkward) (23.1)\n",
      "Requirement already satisfied: zipp>=0.5 in c:\\users\\delgr\\anaconda3\\envs\\datascience1\\lib\\site-packages (from importlib-metadata>=4.13.0->awkward) (3.16.2)\n",
      "Downloading awkward-2.4.6-py3-none-any.whl (708 kB)\n",
      "   ---------------------------------------- 0.0/708.7 kB ? eta -:--:--\n",
      "   ---------------------------------------- 0.0/708.7 kB ? eta -:--:--\n",
      "   - ------------------------------------- 30.7/708.7 kB 660.6 kB/s eta 0:00:02\n",
      "   ---------- ----------------------------- 194.6/708.7 kB 2.4 MB/s eta 0:00:01\n",
      "   ---------------------------- ----------- 501.8/708.7 kB 3.9 MB/s eta 0:00:01\n",
      "   ---------------------------------------  706.6/708.7 kB 4.5 MB/s eta 0:00:01\n",
      "   ---------------------------------------- 708.7/708.7 kB 4.1 MB/s eta 0:00:00\n",
      "Downloading awkward_cpp-24-cp311-cp311-win_amd64.whl (685 kB)\n",
      "   ---------------------------------------- 0.0/685.7 kB ? eta -:--:--\n",
      "   ---------------------------- ---------- 501.8/685.7 kB 15.9 MB/s eta 0:00:01\n",
      "   --------------------------------------- 685.7/685.7 kB 10.9 MB/s eta 0:00:00\n",
      "Installing collected packages: awkward-cpp, awkward\n",
      "Successfully installed awkward-2.4.6 awkward-cpp-24\n",
      "Note: you may need to restart the kernel to use updated packages.\n"
     ]
    }
   ],
   "source": [
    "%pip install awkward"
   ]
  },
  {
   "cell_type": "code",
   "execution_count": 1,
   "metadata": {},
   "outputs": [],
   "source": [
    "import awkward as ak"
   ]
  },
  {
   "cell_type": "code",
   "execution_count": 3,
   "metadata": {},
   "outputs": [
    {
     "data": {
      "text/html": [
       "<pre>[[1, 2, 3, 4, 5],\n",
       " [6, 7],\n",
       " [9]]\n",
       "---------------------\n",
       "type: 3 * var * int64</pre>"
      ],
      "text/plain": [
       "<Array [[1, 2, 3, 4, 5], [6, 7], [9]] type='3 * var * int64'>"
      ]
     },
     "execution_count": 3,
     "metadata": {},
     "output_type": "execute_result"
    }
   ],
   "source": [
    "ak.Array([[1,2,3,4,5],[6,7],[9]])"
   ]
  },
  {
   "cell_type": "code",
   "execution_count": 6,
   "metadata": {},
   "outputs": [
    {
     "data": {
      "text/html": [
       "<pre>[[1, 2, 3, 4, 4.5],\n",
       " [6, 7, None],\n",
       " 9]\n",
       "-------------------\n",
       "type: 3 * union[\n",
       "    var * ?float64,\n",
       "    int64\n",
       "]</pre>"
      ],
      "text/plain": [
       "<Array [[1, 2, 3, 4, 4.5], [6, ...], 9] type='3 * union[var * ?float64, int64]'>"
      ]
     },
     "execution_count": 6,
     "metadata": {},
     "output_type": "execute_result"
    }
   ],
   "source": [
    "ak.Array([[1,2,3,4,4.5],[6,7, None],9])"
   ]
  },
  {
   "cell_type": "code",
   "execution_count": 8,
   "metadata": {},
   "outputs": [
    {
     "data": {
      "text/html": [
       "<pre>[[1, 2, 3],\n",
       " [4, 5]]\n",
       "---------------------\n",
       "type: 2 * var * int64</pre>"
      ],
      "text/plain": [
       "<Array [[1, 2, 3], [4, 5]] type='2 * var * int64'>"
      ]
     },
     "execution_count": 8,
     "metadata": {},
     "output_type": "execute_result"
    }
   ],
   "source": [
    "arr = ak.Array([\n",
    "    [1, 2, 3],\n",
    "    [4, 5]\n",
    "])\n",
    "arr"
   ]
  },
  {
   "cell_type": "code",
   "execution_count": 13,
   "metadata": {},
   "outputs": [
    {
     "data": {
      "text/plain": [
       "ArrayType(ListType(NumpyType('int64')), 2, None)"
      ]
     },
     "execution_count": 13,
     "metadata": {},
     "output_type": "execute_result"
    }
   ],
   "source": [
    "arr.type"
   ]
  },
  {
   "cell_type": "code",
   "execution_count": 15,
   "metadata": {},
   "outputs": [
    {
     "data": {
      "text/html": [
       "<pre>[[10, 20, 30],\n",
       " [40, 50]]\n",
       "---------------------\n",
       "type: 2 * var * int64</pre>"
      ],
      "text/plain": [
       "<Array [[10, 20, 30], [40, 50]] type='2 * var * int64'>"
      ]
     },
     "execution_count": 15,
     "metadata": {},
     "output_type": "execute_result"
    }
   ],
   "source": [
    "arr * 10"
   ]
  },
  {
   "cell_type": "code",
   "execution_count": 16,
   "metadata": {},
   "outputs": [
    {
     "data": {
      "text/html": [
       "<pre>[[1, 1.41, 1.73],\n",
       " [2, 2.24]]\n",
       "-----------------------\n",
       "type: 2 * var * float64</pre>"
      ],
      "text/plain": [
       "<Array [[1, 1.41, 1.73], [2, 2.24]] type='2 * var * float64'>"
      ]
     },
     "execution_count": 16,
     "metadata": {},
     "output_type": "execute_result"
    }
   ],
   "source": [
    "import numpy as np\n",
    "np.sqrt(arr)"
   ]
  },
  {
   "cell_type": "code",
   "execution_count": 19,
   "metadata": {},
   "outputs": [
    {
     "data": {
      "text/plain": [
       "(3.0, 3.0)"
      ]
     },
     "execution_count": 19,
     "metadata": {},
     "output_type": "execute_result"
    }
   ],
   "source": [
    "np.mean(arr), ak.mean(arr)"
   ]
  },
  {
   "cell_type": "code",
   "execution_count": 26,
   "metadata": {},
   "outputs": [
    {
     "data": {
      "text/html": [
       "<pre>[[1, 2, 3],\n",
       " [4, 5]]\n",
       "---------------------\n",
       "type: 2 * var * int64</pre>"
      ],
      "text/plain": [
       "<Array [[1, 2, 3], [4, 5]] type='2 * var * int64'>"
      ]
     },
     "execution_count": 26,
     "metadata": {},
     "output_type": "execute_result"
    }
   ],
   "source": [
    "arr"
   ]
  },
  {
   "cell_type": "code",
   "execution_count": 24,
   "metadata": {},
   "outputs": [
    {
     "data": {
      "text/html": [
       "<pre>[2.5,\n",
       " 3.5,\n",
       " 3]\n",
       "-----------------\n",
       "type: 3 * float64</pre>"
      ],
      "text/plain": [
       "<Array [2.5, 3.5, 3] type='3 * float64'>"
      ]
     },
     "execution_count": 24,
     "metadata": {},
     "output_type": "execute_result"
    }
   ],
   "source": [
    "ak.mean(arr, axis=0)"
   ]
  },
  {
   "cell_type": "code",
   "execution_count": 25,
   "metadata": {},
   "outputs": [
    {
     "data": {
      "text/html": [
       "<pre>[2,\n",
       " 4.5]\n",
       "-----------------\n",
       "type: 2 * float64</pre>"
      ],
      "text/plain": [
       "<Array [2, 4.5] type='2 * float64'>"
      ]
     },
     "execution_count": 25,
     "metadata": {},
     "output_type": "execute_result"
    }
   ],
   "source": [
    "ak.mean(arr, axis=1)"
   ]
  },
  {
   "cell_type": "code",
   "execution_count": 27,
   "metadata": {},
   "outputs": [
    {
     "data": {
      "text/html": [
       "<pre>[1,\n",
       " 2,\n",
       " 3]\n",
       "---------------\n",
       "type: 3 * int64</pre>"
      ],
      "text/plain": [
       "<Array [1, 2, 3] type='3 * int64'>"
      ]
     },
     "execution_count": 27,
     "metadata": {},
     "output_type": "execute_result"
    }
   ],
   "source": [
    "arr[0]"
   ]
  },
  {
   "cell_type": "code",
   "execution_count": 28,
   "metadata": {},
   "outputs": [
    {
     "data": {
      "text/html": [
       "<pre>[1,\n",
       " 4]\n",
       "---------------\n",
       "type: 2 * int64</pre>"
      ],
      "text/plain": [
       "<Array [1, 4] type='2 * int64'>"
      ]
     },
     "execution_count": 28,
     "metadata": {},
     "output_type": "execute_result"
    }
   ],
   "source": [
    "arr[:, 0]"
   ]
  },
  {
   "cell_type": "code",
   "execution_count": 29,
   "metadata": {},
   "outputs": [
    {
     "data": {
      "text/html": [
       "<pre>[[1, 2, 3],\n",
       " [4, 5]]\n",
       "---------------------\n",
       "type: 2 * var * int64</pre>"
      ],
      "text/plain": [
       "<Array [[1, 2, 3], [4, 5]] type='2 * var * int64'>"
      ]
     },
     "execution_count": 29,
     "metadata": {},
     "output_type": "execute_result"
    }
   ],
   "source": [
    "arr"
   ]
  },
  {
   "cell_type": "code",
   "execution_count": 33,
   "metadata": {},
   "outputs": [
    {
     "ename": "IndexError",
     "evalue": "cannot slice ListArray (of length 2) with array(2): index out of range while attempting to get index 2 (in compiled code: https://github.com/scikit-hep/awkward/blob/awkward-cpp-24/awkward-cpp/src/cpu-kernels/awkward_NumpyArray_getitem_next_at.cpp#L21)",
     "output_type": "error",
     "traceback": [
      "\u001b[1;31m---------------------------------------------------------------------------\u001b[0m",
      "\u001b[1;31mIndexError\u001b[0m                                Traceback (most recent call last)",
      "\u001b[1;32mc:\\Users\\delgr\\Projects\\bootcamp2023\\awkward_array_learning.ipynb Cell 16\u001b[0m line \u001b[0;36m1\n\u001b[1;32m----> <a href='vscode-notebook-cell:/c%3A/Users/delgr/Projects/bootcamp2023/awkward_array_learning.ipynb#X20sZmlsZQ%3D%3D?line=0'>1</a>\u001b[0m arr[:, \u001b[39m2\u001b[39;49m]\n",
      "File \u001b[1;32mc:\\Users\\delgr\\anaconda3\\envs\\datascience1\\Lib\\site-packages\\awkward\\highlevel.py:1014\u001b[0m, in \u001b[0;36mArray.__getitem__\u001b[1;34m(self, where)\u001b[0m\n\u001b[0;32m    584\u001b[0m \u001b[39m\u001b[39m\u001b[39m\"\"\"\u001b[39;00m\n\u001b[0;32m    585\u001b[0m \u001b[39mArgs:\u001b[39;00m\n\u001b[0;32m    586\u001b[0m \u001b[39m    where (many types supported; see below): Index of positions to\u001b[39;00m\n\u001b[1;32m   (...)\u001b[0m\n\u001b[0;32m   1010\u001b[0m \u001b[39mhave the same dimension as the array being indexed.\u001b[39;00m\n\u001b[0;32m   1011\u001b[0m \u001b[39m\"\"\"\u001b[39;00m\n\u001b[0;32m   1012\u001b[0m \u001b[39mwith\u001b[39;00m ak\u001b[39m.\u001b[39m_errors\u001b[39m.\u001b[39mSlicingErrorContext(\u001b[39mself\u001b[39m, where):\n\u001b[0;32m   1013\u001b[0m     \u001b[39mreturn\u001b[39;00m wrap_layout(\n\u001b[1;32m-> 1014\u001b[0m         prepare_layout(\u001b[39mself\u001b[39;49m\u001b[39m.\u001b[39;49m_layout[where]), \u001b[39mself\u001b[39m\u001b[39m.\u001b[39m_behavior, allow_other\u001b[39m=\u001b[39m\u001b[39mTrue\u001b[39;00m\n\u001b[0;32m   1015\u001b[0m     )\n",
      "File \u001b[1;32mc:\\Users\\delgr\\anaconda3\\envs\\datascience1\\Lib\\site-packages\\awkward\\contents\\content.py:519\u001b[0m, in \u001b[0;36mContent.__getitem__\u001b[1;34m(self, where)\u001b[0m\n\u001b[0;32m    518\u001b[0m \u001b[39mdef\u001b[39;00m \u001b[39m__getitem__\u001b[39m(\u001b[39mself\u001b[39m, where):\n\u001b[1;32m--> 519\u001b[0m     \u001b[39mreturn\u001b[39;00m \u001b[39mself\u001b[39;49m\u001b[39m.\u001b[39;49m_getitem(where)\n",
      "File \u001b[1;32mc:\\Users\\delgr\\anaconda3\\envs\\datascience1\\Lib\\site-packages\\awkward\\contents\\content.py:564\u001b[0m, in \u001b[0;36mContent._getitem\u001b[1;34m(self, where)\u001b[0m\n\u001b[0;32m    555\u001b[0m nextwhere \u001b[39m=\u001b[39m ak\u001b[39m.\u001b[39m_slicing\u001b[39m.\u001b[39mprepare_advanced_indexing(items, backend)\n\u001b[0;32m    557\u001b[0m \u001b[39mnext\u001b[39m \u001b[39m=\u001b[39m ak\u001b[39m.\u001b[39mcontents\u001b[39m.\u001b[39mRegularArray(\n\u001b[0;32m    558\u001b[0m     this,\n\u001b[0;32m    559\u001b[0m     this\u001b[39m.\u001b[39mlength,\n\u001b[0;32m    560\u001b[0m     \u001b[39m1\u001b[39m,\n\u001b[0;32m    561\u001b[0m     parameters\u001b[39m=\u001b[39m\u001b[39mNone\u001b[39;00m,\n\u001b[0;32m    562\u001b[0m )\n\u001b[1;32m--> 564\u001b[0m out \u001b[39m=\u001b[39m \u001b[39mnext\u001b[39;49m\u001b[39m.\u001b[39;49m_getitem_next(nextwhere[\u001b[39m0\u001b[39;49m], nextwhere[\u001b[39m1\u001b[39;49m:], \u001b[39mNone\u001b[39;49;00m)\n\u001b[0;32m    566\u001b[0m \u001b[39mif\u001b[39;00m out\u001b[39m.\u001b[39mlength \u001b[39mis\u001b[39;00m \u001b[39mnot\u001b[39;00m unknown_length \u001b[39mand\u001b[39;00m out\u001b[39m.\u001b[39mlength \u001b[39m==\u001b[39m \u001b[39m0\u001b[39m:\n\u001b[0;32m    567\u001b[0m     \u001b[39mreturn\u001b[39;00m out\u001b[39m.\u001b[39m_getitem_nothing()\n",
      "File \u001b[1;32mc:\\Users\\delgr\\anaconda3\\envs\\datascience1\\Lib\\site-packages\\awkward\\contents\\regulararray.py:518\u001b[0m, in \u001b[0;36mRegularArray._getitem_next\u001b[1;34m(self, head, tail, advanced)\u001b[0m\n\u001b[0;32m    512\u001b[0m nextcontent \u001b[39m=\u001b[39m \u001b[39mself\u001b[39m\u001b[39m.\u001b[39m_content\u001b[39m.\u001b[39m_carry(nextcarry, \u001b[39mTrue\u001b[39;00m)\n\u001b[0;32m    514\u001b[0m \u001b[39mif\u001b[39;00m advanced \u001b[39mis\u001b[39;00m \u001b[39mNone\u001b[39;00m \u001b[39mor\u001b[39;00m (\n\u001b[0;32m    515\u001b[0m     advanced\u001b[39m.\u001b[39mlength \u001b[39mis\u001b[39;00m \u001b[39mnot\u001b[39;00m unknown_length \u001b[39mand\u001b[39;00m advanced\u001b[39m.\u001b[39mlength \u001b[39m==\u001b[39m \u001b[39m0\u001b[39m\n\u001b[0;32m    516\u001b[0m ):\n\u001b[0;32m    517\u001b[0m     \u001b[39mreturn\u001b[39;00m RegularArray(\n\u001b[1;32m--> 518\u001b[0m         nextcontent\u001b[39m.\u001b[39;49m_getitem_next(nexthead, nexttail, advanced),\n\u001b[0;32m    519\u001b[0m         nextsize,\n\u001b[0;32m    520\u001b[0m         \u001b[39mself\u001b[39m\u001b[39m.\u001b[39m_length,\n\u001b[0;32m    521\u001b[0m         parameters\u001b[39m=\u001b[39m\u001b[39mself\u001b[39m\u001b[39m.\u001b[39m_parameters,\n\u001b[0;32m    522\u001b[0m     )\n\u001b[0;32m    523\u001b[0m \u001b[39melse\u001b[39;00m:\n\u001b[0;32m    524\u001b[0m     nextadvanced \u001b[39m=\u001b[39m ak\u001b[39m.\u001b[39mindex\u001b[39m.\u001b[39mIndex64\u001b[39m.\u001b[39mempty(nextcarry\u001b[39m.\u001b[39mlength, index_nplike)\n",
      "File \u001b[1;32mc:\\Users\\delgr\\anaconda3\\envs\\datascience1\\Lib\\site-packages\\awkward\\contents\\listarray.py:719\u001b[0m, in \u001b[0;36mListArray._getitem_next\u001b[1;34m(self, head, tail, advanced)\u001b[0m\n\u001b[0;32m    713\u001b[0m nextcarry \u001b[39m=\u001b[39m ak\u001b[39m.\u001b[39mindex\u001b[39m.\u001b[39mIndex64\u001b[39m.\u001b[39mempty(lenstarts, \u001b[39mself\u001b[39m\u001b[39m.\u001b[39m_backend\u001b[39m.\u001b[39mindex_nplike)\n\u001b[0;32m    714\u001b[0m \u001b[39massert\u001b[39;00m (\n\u001b[0;32m    715\u001b[0m     nextcarry\u001b[39m.\u001b[39mnplike \u001b[39mis\u001b[39;00m \u001b[39mself\u001b[39m\u001b[39m.\u001b[39m_backend\u001b[39m.\u001b[39mindex_nplike\n\u001b[0;32m    716\u001b[0m     \u001b[39mand\u001b[39;00m \u001b[39mself\u001b[39m\u001b[39m.\u001b[39m_starts\u001b[39m.\u001b[39mnplike \u001b[39mis\u001b[39;00m \u001b[39mself\u001b[39m\u001b[39m.\u001b[39m_backend\u001b[39m.\u001b[39mindex_nplike\n\u001b[0;32m    717\u001b[0m     \u001b[39mand\u001b[39;00m \u001b[39mself\u001b[39m\u001b[39m.\u001b[39m_stops\u001b[39m.\u001b[39mnplike \u001b[39mis\u001b[39;00m \u001b[39mself\u001b[39m\u001b[39m.\u001b[39m_backend\u001b[39m.\u001b[39mindex_nplike\n\u001b[0;32m    718\u001b[0m )\n\u001b[1;32m--> 719\u001b[0m \u001b[39mself\u001b[39;49m\u001b[39m.\u001b[39;49m_maybe_index_error(\n\u001b[0;32m    720\u001b[0m     \u001b[39mself\u001b[39;49m\u001b[39m.\u001b[39;49m_backend[\n\u001b[0;32m    721\u001b[0m         \u001b[39m\"\u001b[39;49m\u001b[39mawkward_ListArray_getitem_next_at\u001b[39;49m\u001b[39m\"\u001b[39;49m,\n\u001b[0;32m    722\u001b[0m         nextcarry\u001b[39m.\u001b[39;49mdtype\u001b[39m.\u001b[39;49mtype,\n\u001b[0;32m    723\u001b[0m         \u001b[39mself\u001b[39;49m\u001b[39m.\u001b[39;49m_starts\u001b[39m.\u001b[39;49mdtype\u001b[39m.\u001b[39;49mtype,\n\u001b[0;32m    724\u001b[0m         \u001b[39mself\u001b[39;49m\u001b[39m.\u001b[39;49m_stops\u001b[39m.\u001b[39;49mdtype\u001b[39m.\u001b[39;49mtype,\n\u001b[0;32m    725\u001b[0m     ](\n\u001b[0;32m    726\u001b[0m         nextcarry\u001b[39m.\u001b[39;49mdata,\n\u001b[0;32m    727\u001b[0m         \u001b[39mself\u001b[39;49m\u001b[39m.\u001b[39;49m_starts\u001b[39m.\u001b[39;49mdata,\n\u001b[0;32m    728\u001b[0m         \u001b[39mself\u001b[39;49m\u001b[39m.\u001b[39;49m_stops\u001b[39m.\u001b[39;49mdata,\n\u001b[0;32m    729\u001b[0m         lenstarts,\n\u001b[0;32m    730\u001b[0m         head,\n\u001b[0;32m    731\u001b[0m     ),\n\u001b[0;32m    732\u001b[0m     slicer\u001b[39m=\u001b[39;49mhead,\n\u001b[0;32m    733\u001b[0m )\n\u001b[0;32m    734\u001b[0m nextcontent \u001b[39m=\u001b[39m \u001b[39mself\u001b[39m\u001b[39m.\u001b[39m_content\u001b[39m.\u001b[39m_carry(nextcarry, \u001b[39mTrue\u001b[39;00m)\n\u001b[0;32m    735\u001b[0m \u001b[39mreturn\u001b[39;00m nextcontent\u001b[39m.\u001b[39m_getitem_next(nexthead, nexttail, advanced)\n",
      "File \u001b[1;32mc:\\Users\\delgr\\anaconda3\\envs\\datascience1\\Lib\\site-packages\\awkward\\contents\\content.py:280\u001b[0m, in \u001b[0;36mContent._maybe_index_error\u001b[1;34m(self, error, slicer)\u001b[0m\n\u001b[0;32m    278\u001b[0m \u001b[39melse\u001b[39;00m:\n\u001b[0;32m    279\u001b[0m     message \u001b[39m=\u001b[39m \u001b[39mself\u001b[39m\u001b[39m.\u001b[39m_backend\u001b[39m.\u001b[39mformat_kernel_error(error)\n\u001b[1;32m--> 280\u001b[0m     \u001b[39mraise\u001b[39;00m ak\u001b[39m.\u001b[39m_errors\u001b[39m.\u001b[39mindex_error(\u001b[39mself\u001b[39m, slicer, message)\n",
      "\u001b[1;31mIndexError\u001b[0m: cannot slice ListArray (of length 2) with array(2): index out of range while attempting to get index 2 (in compiled code: https://github.com/scikit-hep/awkward/blob/awkward-cpp-24/awkward-cpp/src/cpu-kernels/awkward_NumpyArray_getitem_next_at.cpp#L21)",
      "\u001b[0m\nThis error occurred while attempting to slice\n\n    <Array [[1, 2, 3], [4, 5]] type='2 * var * int64'>\n\nwith\n\n    (:, 2)"
     ]
    }
   ],
   "source": [
    "arr[:, 2]"
   ]
  },
  {
   "cell_type": "code",
   "execution_count": 38,
   "metadata": {},
   "outputs": [
    {
     "data": {
      "text/plain": [
       "[[1, 2, 3], [4, 5]]"
      ]
     },
     "execution_count": 38,
     "metadata": {},
     "output_type": "execute_result"
    }
   ],
   "source": [
    "# arr.to_numpy()\n",
    "# np.array(arr)\n",
    "# arr.to_list()\n",
    "arr"
   ]
  },
  {
   "cell_type": "code",
   "execution_count": null,
   "metadata": {},
   "outputs": [],
   "source": [
    "ak.to_"
   ]
  },
  {
   "cell_type": "code",
   "execution_count": 42,
   "metadata": {},
   "outputs": [
    {
     "data": {
      "text/html": [
       "<div>\n",
       "<style scoped>\n",
       "    .dataframe tbody tr th:only-of-type {\n",
       "        vertical-align: middle;\n",
       "    }\n",
       "\n",
       "    .dataframe tbody tr th {\n",
       "        vertical-align: top;\n",
       "    }\n",
       "\n",
       "    .dataframe thead th {\n",
       "        text-align: right;\n",
       "    }\n",
       "</style>\n",
       "<table border=\"1\" class=\"dataframe\">\n",
       "  <thead>\n",
       "    <tr style=\"text-align: right;\">\n",
       "      <th></th>\n",
       "      <th></th>\n",
       "      <th>values</th>\n",
       "    </tr>\n",
       "    <tr>\n",
       "      <th>entry</th>\n",
       "      <th>subentry</th>\n",
       "      <th></th>\n",
       "    </tr>\n",
       "  </thead>\n",
       "  <tbody>\n",
       "    <tr>\n",
       "      <th rowspan=\"3\" valign=\"top\">0</th>\n",
       "      <th>0</th>\n",
       "      <td>1</td>\n",
       "    </tr>\n",
       "    <tr>\n",
       "      <th>1</th>\n",
       "      <td>2</td>\n",
       "    </tr>\n",
       "    <tr>\n",
       "      <th>2</th>\n",
       "      <td>3</td>\n",
       "    </tr>\n",
       "    <tr>\n",
       "      <th rowspan=\"2\" valign=\"top\">1</th>\n",
       "      <th>0</th>\n",
       "      <td>4</td>\n",
       "    </tr>\n",
       "    <tr>\n",
       "      <th>1</th>\n",
       "      <td>5</td>\n",
       "    </tr>\n",
       "  </tbody>\n",
       "</table>\n",
       "</div>"
      ],
      "text/plain": [
       "                values\n",
       "entry subentry        \n",
       "0     0              1\n",
       "      1              2\n",
       "      2              3\n",
       "1     0              4\n",
       "      1              5"
      ]
     },
     "execution_count": 42,
     "metadata": {},
     "output_type": "execute_result"
    }
   ],
   "source": [
    "ak.to_dataframe(arr)"
   ]
  },
  {
   "cell_type": "code",
   "execution_count": 47,
   "metadata": {},
   "outputs": [
    {
     "data": {
      "text/html": [
       "<pre>[[3],\n",
       " [4, 5]]\n",
       "---------------------\n",
       "type: 2 * var * int64</pre>"
      ],
      "text/plain": [
       "<Array [[3], [4, 5]] type='2 * var * int64'>"
      ]
     },
     "execution_count": 47,
     "metadata": {},
     "output_type": "execute_result"
    }
   ],
   "source": [
    "arr[arr > 2]"
   ]
  },
  {
   "cell_type": "code",
   "execution_count": 45,
   "metadata": {},
   "outputs": [
    {
     "data": {
      "text/plain": [
       "array([ True, False,  True, False,  True])"
      ]
     },
     "execution_count": 45,
     "metadata": {},
     "output_type": "execute_result"
    }
   ],
   "source": [
    "np.array([1, 2, 3, 4, 5]) % 2 == 1"
   ]
  },
  {
   "cell_type": "code",
   "execution_count": 65,
   "metadata": {},
   "outputs": [
    {
     "data": {
      "text/html": [
       "<pre>[[1],\n",
       " [2],\n",
       " [3],\n",
       " [4],\n",
       " [5]]\n",
       "-------------------\n",
       "type: 5 * 1 * int64</pre>"
      ],
      "text/plain": [
       "<Array [[1], [2], [3], [4], [5]] type='5 * 1 * int64'>"
      ]
     },
     "execution_count": 65,
     "metadata": {},
     "output_type": "execute_result"
    }
   ],
   "source": [
    "ak.unflatten(ak.flatten(arr), 1)"
   ]
  },
  {
   "cell_type": "code",
   "execution_count": 60,
   "metadata": {},
   "outputs": [
    {
     "data": {
      "text/html": [
       "<pre>[[[1, 2, 3]],\n",
       " [[4, 5]]]\n",
       "-------------------------\n",
       "type: 2 * 1 * var * int64</pre>"
      ],
      "text/plain": [
       "<Array [[[1, 2, 3]], [[4, 5]]] type='2 * 1 * var * int64'>"
      ]
     },
     "execution_count": 60,
     "metadata": {},
     "output_type": "execute_result"
    }
   ],
   "source": [
    "ak.unflatten(arr, 1)"
   ]
  },
  {
   "cell_type": "code",
   "execution_count": 67,
   "metadata": {},
   "outputs": [
    {
     "data": {
      "text/html": [
       "<pre>[[[1, 2], [3, 5]]]\n",
       "-----------------------\n",
       "type: 1 * 2 * 2 * int32</pre>"
      ],
      "text/plain": [
       "<Array [[[1, 2], [3, 5]]] type='1 * 2 * 2 * int32'>"
      ]
     },
     "execution_count": 67,
     "metadata": {},
     "output_type": "execute_result"
    }
   ],
   "source": [
    "ak.Array(np.array([[\n",
    "    [1, 2],\n",
    "    [3, 5],\n",
    "]]))"
   ]
  }
 ],
 "metadata": {
  "kernelspec": {
   "display_name": "datascience1",
   "language": "python",
   "name": "python3"
  },
  "language_info": {
   "codemirror_mode": {
    "name": "ipython",
    "version": 3
   },
   "file_extension": ".py",
   "mimetype": "text/x-python",
   "name": "python",
   "nbconvert_exporter": "python",
   "pygments_lexer": "ipython3",
   "version": "3.11.4"
  }
 },
 "nbformat": 4,
 "nbformat_minor": 2
}
